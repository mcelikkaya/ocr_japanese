{
 "cells": [
  {
   "cell_type": "code",
   "execution_count": 10,
   "metadata": {},
   "outputs": [],
   "source": [
    "\"\"\"\n",
    "This notebook is for trials on pytesseract with Japanese language.\n",
    "\n",
    "\"\"\"\n",
    "import numpy as np \n",
    "import pandas as pd\n",
    "import numpy as np\n",
    "%matplotlib inline \n",
    "from matplotlib import pyplot as plt\n",
    "import matplotlib.image as mpimg\n",
    "import cv2"
   ]
  },
  {
   "cell_type": "code",
   "execution_count": 6,
   "metadata": {},
   "outputs": [],
   "source": [
    "def show_imgdata(img_path):    \n",
    "    img=mpimg.imread(img_path )\n",
    "    imgplot = plt.imshow(img)\n",
    "    plt.show()\n",
    " "
   ]
  },
  {
   "cell_type": "code",
   "execution_count": 7,
   "metadata": {},
   "outputs": [
    {
     "data": {
      "image/png": "[encoded data removed]",
      "text/plain": [
       "<Figure size 432x288 with 1 Axes>"
      ]
     },
     "metadata": {
      "needs_background": "light"
     },
     "output_type": "display_data"
    }
   ],
   "source": [
    "show_imgdata('D:/data_teseract/dictionary.png')\n"
   ]
  },
  {
   "cell_type": "code",
   "execution_count": 8,
   "metadata": {},
   "outputs": [],
   "source": [
    "import pytesseract\n",
    "pytesseract.pytesseract.tesseract_cmd = r'C:/Program Files (x86)/Tesseract-OCR/tesseract'"
   ]
  },
  {
   "cell_type": "code",
   "execution_count": 11,
   "metadata": {},
   "outputs": [
    {
     "name": "stdout",
     "output_type": "stream",
     "text": [
      "English word\n",
      "\n",
      "Japanese transliteration\n",
      "\n",
      "Romanized representation\n",
      "\n",
      " \n",
      "\n",
      " \n",
      "\n",
      " \n",
      "\n",
      " \n",
      "\n",
      " \n",
      "\n",
      " \n",
      "\n",
      " \n",
      "\n",
      " \n",
      "\n",
      " \n",
      "\n",
      " \n",
      "\n",
      " \n",
      "\n",
      " \n",
      "\n",
      "Beige ベ ー ジ ュ 、 ベ ー ジ be7u ち e7\n",
      "Bus terminal バ ス タ ー ミ ナ ル basu faminarn\n",
      "Massage マ ッ サ ー ジ\n",
      "Yellow イ エ ロ ー jer6\n",
      "\n",
      "Ouestion mark ク エ ス チ ョ ン マ ー ク ル vesuchonmakun\n",
      "Meother マ ザ ー aZ8a\n",
      "\n",
      "Tulip チ ュ ー リ ッ プ charip り り\n",
      "\n",
      "Cash card キ ャ ッ シ ュ ・ カ ー ド ル assAn Kado\n",
      "Hammer ハ ン マ ー annmna\n",
      "Guitar ギ タ ー ド 7\n"
     ]
    }
   ],
   "source": [
    "input_data = 'D:/data_teseract/dictionary.png'\n",
    "im = cv2.imread(input_data)\n",
    "print(pytesseract.image_to_string(im, 'jpn'))"
   ]
  },
  {
   "cell_type": "code",
   "execution_count": 12,
   "metadata": {},
   "outputs": [
    {
     "name": "stdout",
     "output_type": "stream",
     "text": [
      "Page number: 0\n",
      "Orientation in degrees: 0\n",
      "Rotate: 0\n",
      "Orientation confidence: 12.45\n",
      "Script: Latin\n",
      "Script confidence: 0.78\n"
     ]
    }
   ],
   "source": [
    "print(pytesseract.image_to_osd(im))"
   ]
  },
  {
   "cell_type": "code",
   "execution_count": 13,
   "metadata": {},
   "outputs": [
    {
     "data": {
      "text/plain": [
       "['level\\tpage_num\\tblock_num\\tpar_num\\tline_num\\tword_num\\tleft\\ttop\\twidth\\theight\\tconf\\ttext',\n",
       " '1\\t1\\t0\\t0\\t0\\t0\\t0\\t0\\t1398\\t783\\t-1\\t',\n",
       " '2\\t1\\t1\\t0\\t0\\t0\\t5\\t215\\t1388\\t559\\t-1\\t',\n",
       " '3\\t1\\t1\\t1\\t0\\t0\\t5\\t215\\t1388\\t559\\t-1\\t',\n",
       " '4\\t1\\t1\\t1\\t1\\t0\\t5\\t215\\t1388\\t69\\t-1\\t',\n",
       " '5\\t1\\t1\\t1\\t1\\t1\\t5\\t215\\t461\\t69\\t13\\tー',\n",
       " '5\\t1\\t1\\t1\\t1\\t2\\t0\\t0\\t1398\\t783\\t79\\tド',\n",
       " '5\\t1\\t1\\t1\\t1\\t3\\t0\\t0\\t1398\\t783\\t42\\tッッ',\n",
       " '5\\t1\\t1\\t1\\t1\\t4\\t0\\t0\\t1398\\t783\\t44\\tラ',\n",
       " '5\\t1\\t1\\t1\\t1\\t5\\t467\\t215\\t463\\t69\\t8\\tー',\n",
       " '5\\t1\\t1\\t1\\t1\\t6\\t0\\t0\\t1398\\t783\\t0\\te',\n",
       " '5\\t1\\t1\\t1\\t1\\t7\\t931\\t215\\t462\\t69\\t49\\tーー',\n",
       " '4\\t1\\t1\\t1\\t2\\t0\\t5\\t285\\t1388\\t69\\t-1\\t',\n",
       " '5\\t1\\t1\\t1\\t2\\t1\\t0\\t0\\t1398\\t783\\t47\\tャ',\n",
       " '5\\t1\\t1\\t1\\t2\\t2\\t5\\t285\\t461\\t69\\t84\\tー',\n",
       " '5\\t1\\t1\\t1\\t2\\t3\\t0\\t0\\t1398\\t783\\t21\\t世',\n",
       " '5\\t1\\t1\\t1\\t2\\t4\\t467\\t285\\t463\\t69\\t56\\tー',\n",
       " '5\\t1\\t1\\t1\\t2\\t5\\t0\\t0\\t1398\\t783\\t54\\tョ',\n",
       " '5\\t1\\t1\\t1\\t2\\t6\\t0\\t0\\t1398\\t783\\t27\\tー',\n",
       " '5\\t1\\t1\\t1\\t2\\t7\\t931\\t285\\t462\\t69\\t27\\tー',\n",
       " '4\\t1\\t1\\t1\\t3\\t0\\t5\\t355\\t1388\\t69\\t-1\\t',\n",
       " '5\\t1\\t1\\t1\\t3\\t1\\t5\\t355\\t461\\t69\\t14\\te',\n",
       " '5\\t1\\t1\\t1\\t3\\t2\\t0\\t0\\t1398\\t783\\t35\\tレ',\n",
       " '5\\t1\\t1\\t1\\t3\\t3\\t0\\t0\\t1398\\t783\\t35\\tェ',\n",
       " '5\\t1\\t1\\t1\\t3\\t4\\t0\\t0\\t1398\\t783\\t31\\tッ',\n",
       " '5\\t1\\t1\\t1\\t3\\t5\\t0\\t0\\t1398\\t783\\t59\\tョ',\n",
       " '5\\t1\\t1\\t1\\t3\\t6\\t467\\t355\\t463\\t69\\t57\\tネ',\n",
       " '5\\t1\\t1\\t1\\t3\\t7\\t0\\t0\\t1398\\t783\\t47\\tー',\n",
       " '5\\t1\\t1\\t1\\t3\\t8\\t0\\t0\\t1398\\t783\\t47\\tク',\n",
       " '5\\t1\\t1\\t1\\t3\\t9\\t0\\t0\\t1398\\t783\\t22\\tーー',\n",
       " '5\\t1\\t1\\t1\\t3\\t10\\t931\\t355\\t462\\t69\\t66\\tー',\n",
       " '4\\t1\\t1\\t1\\t4\\t0\\t5\\t425\\t1388\\t69\\t-1\\t',\n",
       " '5\\t1\\t1\\t1\\t4\\t1\\t5\\t425\\t461\\t69\\t50\\te',\n",
       " '5\\t1\\t1\\t1\\t4\\t2\\t0\\t0\\t1398\\t783\\t48\\tド',\n",
       " '5\\t1\\t1\\t1\\t4\\t3\\t0\\t0\\t1398\\t783\\t25\\tョ',\n",
       " '5\\t1\\t1\\t1\\t4\\t4\\t467\\t425\\t463\\t69\\t14\\tーー',\n",
       " '5\\t1\\t1\\t1\\t4\\t5\\t0\\t0\\t1398\\t783\\t14\\ta',\n",
       " '5\\t1\\t1\\t1\\t4\\t6\\t0\\t0\\t1398\\t783\\t46\\tー',\n",
       " '5\\t1\\t1\\t1\\t4\\t7\\t0\\t0\\t1398\\t783\\t51\\tニ',\n",
       " '5\\t1\\t1\\t1\\t4\\t8\\t931\\t425\\t462\\t69\\t42\\tー',\n",
       " '4\\t1\\t1\\t1\\t5\\t0\\t5\\t495\\t1388\\t69\\t-1\\t',\n",
       " '5\\t1\\t1\\t1\\t5\\t1\\t0\\t0\\t1398\\t783\\t0\\t浩',\n",
       " '5\\t1\\t1\\t1\\t5\\t2\\t5\\t495\\t461\\t69\\t32\\tー',\n",
       " '5\\t1\\t1\\t1\\t5\\t3\\t0\\t0\\t1398\\t783\\t32\\tー',\n",
       " '5\\t1\\t1\\t1\\t5\\t4\\t0\\t0\\t1398\\t783\\t35\\tッ',\n",
       " '5\\t1\\t1\\t1\\t5\\t5\\t0\\t0\\t1398\\t783\\t17\\tク',\n",
       " '5\\t1\\t1\\t1\\t5\\t6\\t467\\t495\\t463\\t69\\t52\\tーーー',\n",
       " '5\\t1\\t1\\t1\\t5\\t7\\t0\\t0\\t1398\\t783\\t26\\tkam',\n",
       " '5\\t1\\t1\\t1\\t5\\t8\\t931\\t495\\t462\\t69\\t23\\tニ',\n",
       " '5\\t1\\t1\\t1\\t5\\t9\\t0\\t0\\t1398\\t783\\t56\\tーーー',\n",
       " '4\\t1\\t1\\t1\\t6\\t0\\t5\\t635\\t1388\\t69\\t-1\\t',\n",
       " '5\\t1\\t1\\t1\\t6\\t1\\t5\\t635\\t461\\t69\\t26\\tー',\n",
       " '5\\t1\\t1\\t1\\t6\\t2\\t0\\t0\\t1398\\t783\\t50\\tト',\n",
       " '5\\t1\\t1\\t1\\t6\\t3\\t0\\t0\\t1398\\t783\\t26\\tン',\n",
       " '5\\t1\\t1\\t1\\t6\\t4\\t467\\t635\\t463\\t69\\t45\\tーー',\n",
       " '5\\t1\\t1\\t1\\t6\\t5\\t931\\t635\\t462\\t69\\t45\\ta',\n",
       " '5\\t1\\t1\\t1\\t6\\t6\\t0\\t0\\t1398\\t783\\t41\\tー',\n",
       " '4\\t1\\t1\\t1\\t7\\t0\\t5\\t705\\t1388\\t69\\t-1\\t',\n",
       " '5\\t1\\t1\\t1\\t7\\t1\\t5\\t705\\t461\\t69\\t10\\tw',\n",
       " '5\\t1\\t1\\t1\\t7\\t2\\t0\\t0\\t1398\\t783\\t53\\tー',\n",
       " '5\\t1\\t1\\t1\\t7\\t3\\t0\\t0\\t1398\\t783\\t27\\tニ',\n",
       " '5\\t1\\t1\\t1\\t7\\t4\\t467\\t705\\t463\\t69\\t57\\tーーー',\n",
       " '5\\t1\\t1\\t1\\t7\\t5\\t931\\t705\\t462\\t69\\t36\\tュ']"
      ]
     },
     "execution_count": 13,
     "metadata": {},
     "output_type": "execute_result"
    }
   ],
   "source": [
    "data = pytesseract.image_to_data(im, lang='jpn', config='--psm 6')\n",
    "data.splitlines()"
   ]
  },
  {
   "cell_type": "code",
   "execution_count": 14,
   "metadata": {},
   "outputs": [
    {
     "name": "stdout",
     "output_type": "stream",
     "text": [
      "ー 5 499 448 568 0\n",
      "ド 1398 0 1398 0 0\n",
      "ッ 1398 0 1398 0 0\n",
      "ッ 1398 0 1398 0 0\n",
      "ラ 1398 0 1398 0 0\n",
      "ー 467 499 811 568 0\n",
      "e 1398 0 1398 0 0\n",
      "ー 931 499 1266 568 0\n",
      "ー 1266 499 1393 568 0\n",
      "ャ 1398 0 1398 0 0\n",
      "ー 5 429 368 498 0\n",
      "世 1398 0 1398 0 0\n",
      "ー 467 429 930 498 0\n",
      "ョ 1398 0 1398 0 0\n",
      "ー 1398 0 1398 0 0\n",
      "ー 931 429 1393 498 0\n",
      "e 5 359 466 428 0\n",
      "レ 1398 0 1398 0 0\n",
      "ェ 1398 0 1398 0 0\n",
      "ッ 1398 0 1398 0 0\n",
      "ョ 1398 0 1398 0 0\n",
      "ネ 467 359 710 428 0\n",
      "ー 1398 0 1398 0 0\n",
      "ク 1398 0 1398 0 0\n",
      "ー 1398 0 1398 0 0\n",
      "ー 1398 0 1398 0 0\n",
      "ー 931 359 1393 428 0\n",
      "e 5 289 465 358 0\n",
      "ド 1398 0 1398 0 0\n",
      "ョ 1398 0 1398 0 0\n",
      "ー 467 289 566 358 0\n",
      "ー 566 289 815 358 0\n",
      "a 1398 0 1398 0 0\n",
      "ー 1398 0 1398 0 0\n",
      "ニ 1398 0 1398 0 0\n",
      "ー 931 289 1393 358 0\n",
      "浩 1398 0 1398 0 0\n",
      "ー 5 219 466 288 0\n",
      "ー 1398 0 1398 0 0\n",
      "ッ 1398 0 1398 0 0\n",
      "ク 1398 0 1398 0 0\n",
      "ー 467 219 718 288 0\n",
      "ー 718 219 802 288 0\n",
      "ー 802 219 908 288 0\n",
      "k 1398 0 1398 0 0\n",
      "a 1398 0 1398 0 0\n",
      "m 1398 0 1398 0 0\n",
      "ニ 931 219 1182 288 0\n",
      "ー 1398 0 1398 0 0\n",
      "ー 1398 0 1398 0 0\n",
      "ー 1398 0 1398 0 0\n",
      "ー 5 79 456 148 0\n",
      "ト 1398 0 1398 0 0\n",
      "ン 1398 0 1398 0 0\n",
      "ー 467 79 621 148 0\n",
      "ー 621 79 849 148 0\n",
      "a 931 79 1190 148 0\n",
      "ー 1398 0 1398 0 0\n",
      "w 5 9 370 78 0\n",
      "ー 1398 0 1398 0 0\n",
      "ニ 1398 0 1398 0 0\n",
      "ー 467 9 590 78 0\n",
      "ー 590 9 707 78 0\n",
      "ー 707 9 930 78 0\n",
      "ュ 931 9 1393 78 0\n"
     ]
    }
   ],
   "source": [
    "boxes = pytesseract.image_to_boxes(im, lang='jpn', config='--psm 6')\n",
    "print(boxes)"
   ]
  },
  {
   "cell_type": "code",
   "execution_count": 15,
   "metadata": {},
   "outputs": [
    {
     "data": {
      "image/png": "[encoded data removed]",
      "text/plain": [
       "<Figure size 432x288 with 1 Axes>"
      ]
     },
     "metadata": {
      "needs_background": "light"
     },
     "output_type": "display_data"
    }
   ],
   "source": [
    "img_path = 'D:/data_teseract/webform.png'\n",
    "show_imgdata(img_path)\n",
    "\n"
   ]
  },
  {
   "cell_type": "code",
   "execution_count": 16,
   "metadata": {},
   "outputs": [
    {
     "name": "stdout",
     "output_type": "stream",
     "text": [
      "O 〇 給 付 対 象 者 ( 下 記 の 記 載 内 容 を 御 確 認 く だ さ い 。\n",
      "も し 記 載 に 誤 り が あ れ ば 、 朱 書 き で 訂 正 し て く だ さ い )\n",
      "\n",
      " \n",
      "\n",
      " \n",
      "\n",
      "世 帯 主 | 昭 和 60 年 ⑩ 月 1 日\n",
      "千 代 田 花 子 妻 平 成 2 年 4 月 1 日\n",
      "千 代 田 直 子 子 | 令 和 元 年 ⑫ 月 31 日\n"
     ]
    }
   ],
   "source": [
    "img_input = cv2.imread(img_path)\n",
    "print(pytesseract.image_to_string(img_input,lang='jpn'))"
   ]
  },
  {
   "cell_type": "code",
   "execution_count": null,
   "metadata": {},
   "outputs": [],
   "source": []
  }
 ],
 "metadata": {
  "kernelspec": {
   "display_name": "Python 3",
   "language": "python",
   "name": "python3"
  },
  "language_info": {
   "codemirror_mode": {
    "name": "ipython",
    "version": 3
   },
   "file_extension": ".py",
   "mimetype": "text/x-python",
   "name": "python",
   "nbconvert_exporter": "python",
   "pygments_lexer": "ipython3",
   "version": "3.7.1"
  }
 },
 "nbformat": 4,
 "nbformat_minor": 2
}
